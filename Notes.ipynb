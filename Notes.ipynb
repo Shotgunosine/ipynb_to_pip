{
 "cells": [
  {
   "cell_type": "markdown",
   "metadata": {},
   "source": [
    "# Moving from a notebook to a module\n",
    "\n",
    "I write most of my code in notebooks and tend to be pretty lazy about moving things to scripts or installable modules. Here's documentation of that process for one of my notebooks. I'm basing this work on the instructions available here: https://packaging.python.org/tutorials/packaging-projects/ and here: https://python-packaging.readthedocs.io/en/latest/dependencies.html (which are a little out of date)\n",
    "\n",
    "The fist set of links goes to a series of commits as I'm modifying the code in the notebook to make it more functional.\n",
    "\n",
    "[Initial commit](https://app.reviewnb.com/nimh-mbdu/nidb_to_bids/commit/330b2e7385813c86925f5c8fa73d50dde86c7f46/)  \n",
    "[Time nibabel versus AFNI for getting dimensions](https://app.reviewnb.com/nimh-mbdu/nidb_to_bids/commit/932fc3d730a0e1ce047ca1efd02012d35849994c/)  \n",
    "[Replace 3dinfo with nibabel for getting dimensions](https://app.reviewnb.com/nimh-mbdu/nidb_to_bids/commit/f7a1acd8aed0f70901734bddae2601ca191c8f1c/)  \n",
    "[Move json data loading to function](https://app.reviewnb.com/nimh-mbdu/nidb_to_bids/commit/3b8321cedd8c8945cb2e81cf48046678a2e53127/)  \n",
    "[Do some rudimentary error checking on the parsed path values](https://app.reviewnb.com/nimh-mbdu/nidb_to_bids/commit/90cab81be535b0d29d7a9f62578c12bdefac4cde/)  \n",
    "[Move gzipping if needed functionality to a function,](https://app.reviewnb.com/nimh-mbdu/nidb_to_bids/commit/89f48f6d3cd069090dd7c34a1fee7c4315aff542/)    \n",
    "&nbsp;&nbsp;&nbsp;&nbsp;write a test for the function,  \n",
    "&nbsp;&nbsp;&nbsp;&nbsp;`shlex.split` is great for determining how to parse a command line string to pass it to `subprocess.run()`  \n",
    "[Do some input checking and wrap main loop in a function](https://app.reviewnb.com/nimh-mbdu/nidb_to_bids/commit/c456f358d8e21bd612f912ff3284a136e19b0719/)  \n",
    "&nbsp;&nbsp;&nbsp;&nbsp;I'll be using `click` for the command line interface, but it doesn't play nicely with a jupyter notebook so I've just commented it out for now. \n",
    "\n",
    "Now I'd like to get a .py from my notebook"
   ]
  },
  {
   "cell_type": "code",
   "execution_count": 5,
   "metadata": {},
   "outputs": [
    {
     "name": "stdout",
     "output_type": "stream",
     "text": [
      "[NbConvertApp] Converting notebook ../notebooks/get_scan_metadata.ipynb to script\n",
      "[NbConvertApp] Writing 2897 bytes to ../notebooks/parse_nidb_metadata.txt\n"
     ]
    }
   ],
   "source": [
    "!jupyter nbconvert --to script ../notebooks/get_scan_metadata.ipynb --output parse_nidb_metadata"
   ]
  },
  {
   "cell_type": "code",
   "execution_count": 6,
   "metadata": {},
   "outputs": [],
   "source": [
    "!mv ../notebooks/parse_nidb_metadata.txt ../notebooks/parse_nidb_metadata.py"
   ]
  },
  {
   "cell_type": "markdown",
   "metadata": {},
   "source": [
    "Make a directory for the scripts to live in "
   ]
  },
  {
   "cell_type": "code",
   "execution_count": 7,
   "metadata": {},
   "outputs": [],
   "source": [
    "!mkdir ../nidb_to_bids\n",
    "!mv ../notebooks/parse_nidb_metadata.py ../nidb_to_bids"
   ]
  },
  {
   "cell_type": "markdown",
   "metadata": {},
   "source": [
    "Create an init"
   ]
  },
  {
   "cell_type": "code",
   "execution_count": 30,
   "metadata": {},
   "outputs": [
    {
     "name": "stdout",
     "output_type": "stream",
     "text": [
      "Overwriting ../nidb_to_bids/__init__.py\n"
     ]
    }
   ],
   "source": [
    "%%writefile ../nidb_to_bids/__init__.py\n",
    "from .parse_nidb_metadata import *"
   ]
  },
  {
   "cell_type": "markdown",
   "metadata": {},
   "source": [
    "[Make some final changes to parse_nidb_metadata.py so it's executable](https://github.com/nimh-mbdu/nidb_to_bids/commit/fdda7b0feadb372e4397bd13744a2eb1fe6e342c)\n",
    "\n",
    "Click integration with setuptools is discussed here:\n",
    "https://click.palletsprojects.com/en/7.x/setuptools/"
   ]
  },
  {
   "cell_type": "code",
   "execution_count": 31,
   "metadata": {},
   "outputs": [
    {
     "name": "stdout",
     "output_type": "stream",
     "text": [
      "Overwriting ../setup.py\n"
     ]
    }
   ],
   "source": [
    "%%writefile ../setup.py\n",
    "import setuptools\n",
    "\n",
    "with open(\"README.md\", \"r\") as fh:\n",
    "    long_description = fh.read()\n",
    "    \n",
    "setuptools.setup(\n",
    "    name=\"nidb_to_bids\",\n",
    "    version=\"0.0.1\",\n",
    "    author=\"Dylan Nielson\",\n",
    "    author_email=\"Dylan.Nielson@gmail.com\",\n",
    "    description=\"Our lab's code to convert data dumped from NiDB to BIDS\",\n",
    "    long_description=long_description,\n",
    "    long_description_content_type=\"text/markdown\",\n",
    "    url=\"https://github.com/nimh-mbdu/nidb_to_bids\",\n",
    "    #packages=setuptools.find_packages(),\n",
    "    packages=['nidb_to_bids'],\n",
    "    install_requires=[\n",
    "        'pandas',\n",
    "        'numpy',\n",
    "        'nibabel',\n",
    "        'Click'\n",
    "    ],\n",
    "    entry_points='''\n",
    "        [console_scripts]\n",
    "        parse_nidb_metadata=nidb_to_bids.parse_nidb_metadata:extract_nidb_metadata\n",
    "    ''',\n",
    "    classifiers=[\n",
    "        \"Programming Language :: Python :: 3\",\n",
    "        \"License :: CC0 1.0 Universal (CC0 1.0) Public Domain Dedication\",\n",
    "        \"Operating System :: POSIX\",\n",
    "    ],\n",
    ")"
   ]
  },
  {
   "cell_type": "markdown",
   "metadata": {},
   "source": [
    "Make sure you have the latest versions of setuptools and wheel installed:"
   ]
  },
  {
   "cell_type": "code",
   "execution_count": 13,
   "metadata": {},
   "outputs": [
    {
     "name": "stdout",
     "output_type": "stream",
     "text": [
      "Collecting package metadata: done\n",
      "Solving environment: done\n",
      "\n",
      "\n",
      "==> WARNING: A newer version of conda exists. <==\n",
      "  current version: 4.6.14\n",
      "  latest version: 4.7.10\n",
      "\n",
      "Please update conda by running\n",
      "\n",
      "    $ conda update -n base -c defaults conda\n",
      "\n",
      "\n",
      "\n",
      "# All requested packages already installed.\n",
      "\n",
      "\n",
      "Note: you may need to restart the kernel to use updated packages.\n"
     ]
    }
   ],
   "source": [
    "%conda update setuptools wheel"
   ]
  },
  {
   "cell_type": "code",
   "execution_count": 32,
   "metadata": {},
   "outputs": [
    {
     "name": "stdout",
     "output_type": "stream",
     "text": [
      "running sdist\n",
      "running egg_info\n",
      "writing nidb_to_bids.egg-info/PKG-INFO\n",
      "writing dependency_links to nidb_to_bids.egg-info/dependency_links.txt\n",
      "writing entry points to nidb_to_bids.egg-info/entry_points.txt\n",
      "writing requirements to nidb_to_bids.egg-info/requires.txt\n",
      "writing top-level names to nidb_to_bids.egg-info/top_level.txt\n",
      "reading manifest file 'nidb_to_bids.egg-info/SOURCES.txt'\n",
      "writing manifest file 'nidb_to_bids.egg-info/SOURCES.txt'\n",
      "running check\n",
      "creating nidb_to_bids-0.0.1\n",
      "creating nidb_to_bids-0.0.1/nidb_to_bids\n",
      "creating nidb_to_bids-0.0.1/nidb_to_bids.egg-info\n",
      "copying files to nidb_to_bids-0.0.1...\n",
      "copying README.md -> nidb_to_bids-0.0.1\n",
      "copying setup.py -> nidb_to_bids-0.0.1\n",
      "copying nidb_to_bids/__init__.py -> nidb_to_bids-0.0.1/nidb_to_bids\n",
      "copying nidb_to_bids/parse_nidb_metadata.py -> nidb_to_bids-0.0.1/nidb_to_bids\n",
      "copying nidb_to_bids.egg-info/PKG-INFO -> nidb_to_bids-0.0.1/nidb_to_bids.egg-info\n",
      "copying nidb_to_bids.egg-info/SOURCES.txt -> nidb_to_bids-0.0.1/nidb_to_bids.egg-info\n",
      "copying nidb_to_bids.egg-info/dependency_links.txt -> nidb_to_bids-0.0.1/nidb_to_bids.egg-info\n",
      "copying nidb_to_bids.egg-info/entry_points.txt -> nidb_to_bids-0.0.1/nidb_to_bids.egg-info\n",
      "copying nidb_to_bids.egg-info/requires.txt -> nidb_to_bids-0.0.1/nidb_to_bids.egg-info\n",
      "copying nidb_to_bids.egg-info/top_level.txt -> nidb_to_bids-0.0.1/nidb_to_bids.egg-info\n",
      "Writing nidb_to_bids-0.0.1/setup.cfg\n",
      "Creating tar archive\n",
      "removing 'nidb_to_bids-0.0.1' (and everything under it)\n",
      "running bdist_wheel\n",
      "running build\n",
      "running build_py\n",
      "copying nidb_to_bids/__init__.py -> build/lib/nidb_to_bids\n",
      "copying nidb_to_bids/parse_nidb_metadata.py -> build/lib/nidb_to_bids\n",
      "installing to build/bdist.linux-x86_64/wheel\n",
      "running install\n",
      "running install_lib\n",
      "creating build/bdist.linux-x86_64/wheel\n",
      "creating build/bdist.linux-x86_64/wheel/nidb_to_bids\n",
      "copying build/lib/nidb_to_bids/__init__.py -> build/bdist.linux-x86_64/wheel/nidb_to_bids\n",
      "copying build/lib/nidb_to_bids/parse_nidb_metadata.py -> build/bdist.linux-x86_64/wheel/nidb_to_bids\n",
      "running install_egg_info\n",
      "Copying nidb_to_bids.egg-info to build/bdist.linux-x86_64/wheel/nidb_to_bids-0.0.1-py3.7.egg-info\n",
      "running install_scripts\n",
      "adding license file \"LICENSE\" (matched pattern \"LICEN[CS]E*\")\n",
      "creating build/bdist.linux-x86_64/wheel/nidb_to_bids-0.0.1.dist-info/WHEEL\n",
      "creating 'dist/nidb_to_bids-0.0.1-py3-none-any.whl' and adding 'build/bdist.linux-x86_64/wheel' to it\n",
      "adding 'nidb_to_bids/__init__.py'\n",
      "adding 'nidb_to_bids/parse_nidb_metadata.py'\n",
      "adding 'nidb_to_bids-0.0.1.dist-info/LICENSE'\n",
      "adding 'nidb_to_bids-0.0.1.dist-info/METADATA'\n",
      "adding 'nidb_to_bids-0.0.1.dist-info/WHEEL'\n",
      "adding 'nidb_to_bids-0.0.1.dist-info/entry_points.txt'\n",
      "adding 'nidb_to_bids-0.0.1.dist-info/top_level.txt'\n",
      "adding 'nidb_to_bids-0.0.1.dist-info/RECORD'\n",
      "removing build/bdist.linux-x86_64/wheel\n"
     ]
    }
   ],
   "source": [
    "!cd ..; python3 setup.py sdist bdist_wheel"
   ]
  },
  {
   "cell_type": "code",
   "execution_count": 22,
   "metadata": {},
   "outputs": [
    {
     "name": "stdout",
     "output_type": "stream",
     "text": [
      "nidb_to_bids-0.0.1-py3-none-any.whl  nidb_to_bids-0.0.1.tar.gz\r\n"
     ]
    }
   ],
   "source": [
    "!ls ../dist"
   ]
  },
  {
   "cell_type": "code",
   "execution_count": 24,
   "metadata": {},
   "outputs": [
    {
     "name": "stdout",
     "output_type": "stream",
     "text": [
      "Collecting package metadata: done\n",
      "Solving environment: done\n",
      "\n",
      "\n",
      "==> WARNING: A newer version of conda exists. <==\n",
      "  current version: 4.6.14\n",
      "  latest version: 4.7.10\n",
      "\n",
      "Please update conda by running\n",
      "\n",
      "    $ conda update -n base -c defaults conda\n",
      "\n",
      "\n",
      "\n",
      "## Package Plan ##\n",
      "\n",
      "  environment location: /EDB/MBDU/bids/scripts/nidb_to_bids/env\n",
      "\n",
      "  added / updated specs:\n",
      "    - twine\n",
      "\n",
      "\n",
      "The following packages will be downloaded:\n",
      "\n",
      "    package                    |            build\n",
      "    ---------------------------|-----------------\n",
      "    cffi-1.12.3                |   py37h2e261b9_0         222 KB\n",
      "    chardet-3.0.4              |        py37_1003         173 KB\n",
      "    cmarkgfm-0.4.2             |   py37h7b6447c_0         157 KB\n",
      "    cryptography-2.7           |   py37h1ba5d50_0         608 KB\n",
      "    docutils-0.15.1            |           py37_0         737 KB\n",
      "    future-0.17.1              |           py37_0         699 KB\n",
      "    pkginfo-1.5.0.1            |           py37_0          43 KB\n",
      "    pysocks-1.7.0              |           py37_0          29 KB\n",
      "    readme_renderer-24.0       |           py37_0          20 KB\n",
      "    requests-2.22.0            |           py37_0          89 KB\n",
      "    requests-toolbelt-0.9.1    |             py_0          42 KB\n",
      "    tqdm-4.32.1                |             py_0          48 KB\n",
      "    twine-1.13.0               |             py_1          31 KB\n",
      "    urllib3-1.24.2             |           py37_0         153 KB\n",
      "    ------------------------------------------------------------\n",
      "                                           Total:         3.0 MB\n",
      "\n",
      "The following NEW packages will be INSTALLED:\n",
      "\n",
      "  asn1crypto         pkgs/main/linux-64::asn1crypto-0.24.0-py37_0\n",
      "  cffi               pkgs/main/linux-64::cffi-1.12.3-py37h2e261b9_0\n",
      "  chardet            pkgs/main/linux-64::chardet-3.0.4-py37_1003\n",
      "  cmarkgfm           pkgs/main/linux-64::cmarkgfm-0.4.2-py37h7b6447c_0\n",
      "  cryptography       pkgs/main/linux-64::cryptography-2.7-py37h1ba5d50_0\n",
      "  docutils           pkgs/main/linux-64::docutils-0.15.1-py37_0\n",
      "  future             pkgs/main/linux-64::future-0.17.1-py37_0\n",
      "  idna               pkgs/main/linux-64::idna-2.8-py37_0\n",
      "  pkginfo            pkgs/main/linux-64::pkginfo-1.5.0.1-py37_0\n",
      "  pycparser          pkgs/main/linux-64::pycparser-2.19-py37_0\n",
      "  pyopenssl          pkgs/main/linux-64::pyopenssl-19.0.0-py37_0\n",
      "  pysocks            pkgs/main/linux-64::pysocks-1.7.0-py37_0\n",
      "  readme_renderer    pkgs/main/linux-64::readme_renderer-24.0-py37_0\n",
      "  requests           pkgs/main/linux-64::requests-2.22.0-py37_0\n",
      "  requests-toolbelt  pkgs/main/noarch::requests-toolbelt-0.9.1-py_0\n",
      "  tqdm               pkgs/main/noarch::tqdm-4.32.1-py_0\n",
      "  twine              pkgs/main/noarch::twine-1.13.0-py_1\n",
      "  urllib3            pkgs/main/linux-64::urllib3-1.24.2-py37_0\n",
      "\n",
      "\n",
      "\n",
      "Downloading and Extracting Packages\n",
      "urllib3-1.24.2       | 153 KB    | ##################################### | 100% \n",
      "chardet-3.0.4        | 173 KB    | ##################################### | 100% \n",
      "pysocks-1.7.0        | 29 KB     | ##################################### | 100% \n",
      "docutils-0.15.1      | 737 KB    | ##################################### | 100% \n",
      "cffi-1.12.3          | 222 KB    | ##################################### | 100% \n",
      "cryptography-2.7     | 608 KB    | ##################################### | 100% \n",
      "cmarkgfm-0.4.2       | 157 KB    | ##################################### | 100% \n",
      "requests-2.22.0      | 89 KB     | ##################################### | 100% \n",
      "requests-toolbelt-0. | 42 KB     | ##################################### | 100% \n",
      "twine-1.13.0         | 31 KB     | ##################################### | 100% \n",
      "tqdm-4.32.1          | 48 KB     | ##################################### | 100% \n",
      "pkginfo-1.5.0.1      | 43 KB     | ##################################### | 100% \n",
      "readme_renderer-24.0 | 20 KB     | ##################################### | 100% \n",
      "future-0.17.1        | 699 KB    | ##################################### | 100% \n",
      "Preparing transaction: done\n",
      "Verifying transaction: done\n",
      "Executing transaction: done\n",
      "\n",
      "Note: you may need to restart the kernel to use updated packages.\n"
     ]
    }
   ],
   "source": [
    "%conda install twine"
   ]
  },
  {
   "cell_type": "markdown",
   "metadata": {},
   "source": [
    "Finally you can upload to pypi\n",
    "```\n",
    "cd ..\n",
    "twine upload dist/*\n",
    "```\n",
    "\n",
    "And now the code is available at:\n",
    "https://pypi.org/project/nidb-to-bids/\n",
    "\n",
    "# Testing the refactoring\n",
    "\n",
    "Ideally you would plan your tests before you refactor your code, but in this case I just used git to checkout the original commit and ran it on some data, then ran the most resent verion on the same data. Let's load up the two results and compare."
   ]
  },
  {
   "cell_type": "code",
   "execution_count": 30,
   "metadata": {},
   "outputs": [],
   "source": [
    "import pandas as pd\n",
    "orig_res = pd.read_csv('/EDB/MBDU/bids/scripts/test/orig_code_res.cvs', index_col=0)"
   ]
  },
  {
   "cell_type": "code",
   "execution_count": 9,
   "metadata": {},
   "outputs": [],
   "source": [
    "test_res = pd.read_csv('/EDB/MBDU/bids/scripts/test/test.csv', index_col=0)"
   ]
  },
  {
   "cell_type": "code",
   "execution_count": 31,
   "metadata": {},
   "outputs": [],
   "source": [
    "merged = orig_res.merge(test_res, on='path', suffixes=['_orig', '_test'], how='outer', indicator=True)"
   ]
  },
  {
   "cell_type": "code",
   "execution_count": 32,
   "metadata": {},
   "outputs": [
    {
     "data": {
      "text/plain": [
       "_merge\n",
       "left_only         0\n",
       "right_only        0\n",
       "both          12136\n",
       "Name: path, dtype: int64"
      ]
     },
     "execution_count": 32,
     "metadata": {},
     "output_type": "execute_result"
    }
   ],
   "source": [
    "merged.groupby('_merge').path.count()"
   ]
  },
  {
   "cell_type": "code",
   "execution_count": 45,
   "metadata": {},
   "outputs": [],
   "source": [
    "for cc in orig_res.columns:\n",
    "    if cc != 'path':\n",
    "        orig_col = cc + '_orig'\n",
    "        test_col = cc + '_test'\n",
    "        assert(merged.loc[merged[orig_col].notnull(), orig_col] == merged.loc[merged[test_col].notnull(), test_col]).all()"
   ]
  },
  {
   "cell_type": "code",
   "execution_count": null,
   "metadata": {},
   "outputs": [],
   "source": []
  }
 ],
 "metadata": {
  "kernelspec": {
   "display_name": "Python 3",
   "language": "python",
   "name": "python3"
  },
  "language_info": {
   "codemirror_mode": {
    "name": "ipython",
    "version": 3
   },
   "file_extension": ".py",
   "mimetype": "text/x-python",
   "name": "python",
   "nbconvert_exporter": "python",
   "pygments_lexer": "ipython3",
   "version": "3.7.3"
  }
 },
 "nbformat": 4,
 "nbformat_minor": 2
}
